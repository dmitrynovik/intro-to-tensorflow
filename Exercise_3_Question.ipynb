{
  "nbformat": 4,
  "nbformat_minor": 0,
  "metadata": {
    "colab": {
      "name": "Exercise 3 - Question.ipynb",
      "version": "0.3.2",
      "provenance": [],
      "collapsed_sections": []
    },
    "kernelspec": {
      "name": "python3",
      "display_name": "Python 3"
    }
  },
  "cells": [
    {
      "cell_type": "markdown",
      "metadata": {
        "id": "iQjHqsmTAVLU",
        "colab_type": "text"
      },
      "source": [
        "## Exercise 3\n",
        "In the videos you looked at how you would improve Fashion MNIST using Convolutions. For your exercise see if you can improve MNIST to 99.8% accuracy or more using only a single convolutional layer and a single MaxPooling 2D. You should stop training once the accuracy goes above this amount. It should happen in less than 20 epochs, so it's ok to hard code the number of epochs for training, but your training must end once it hits the above metric. If it doesn't, then you'll need to redesign your layers.\n",
        "\n",
        "I've started the code for you -- you need to finish it!\n",
        "\n",
        "When 99.8% accuracy has been hit, you should print out the string \"Reached 99.8% accuracy so cancelling training!\"\n"
      ]
    },
    {
      "cell_type": "code",
      "metadata": {
        "id": "sfQRyaJWAIdg",
        "colab_type": "code",
        "colab": {
          "base_uri": "https://localhost:8080/",
          "height": 890
        },
        "outputId": "8ddf58c1-9d84-4f23-b323-27ad43f11316"
      },
      "source": [
        "import tensorflow as tf\n",
        "\n",
        "# YOUR CODE STARTS HERE\n",
        "ACCURACY = 0.998\n",
        "EPOCHS = 20\n",
        "CONVOLUTIONS = 32\n",
        "HIDDEN_LAYER_SIZE = 128\n",
        "\n",
        "class myCallback(tf.keras.callbacks.Callback):\n",
        " def on_epoch_end(self, epoch, logs={}):\n",
        "   if(logs.get('acc') >= ACCURACY):\n",
        "     print(\"\\nReached %f%% accuracy so cancelling training!\" % ACCURACY)\n",
        "     self.model.stop_training = True\n",
        "\n",
        "callbacks = myCallback()\n",
        "# YOUR CODE ENDS HERE\n",
        "\n",
        "mnist = tf.keras.datasets.mnist\n",
        "(training_images, training_labels), (test_images, test_labels) = mnist.load_data()\n",
        "\n",
        "# YOUR CODE STARTS HERE\n",
        "training_images=training_images.reshape(60000, 28, 28, 1)\n",
        "training_images=training_images / 255.0\n",
        "test_images = test_images.reshape(10000, 28, 28, 1)\n",
        "test_images=test_images / 255.0\n",
        "# YOUR CODE ENDS HERE\n",
        "\n",
        "model = tf.keras.models.Sequential([\n",
        "    # YOUR CODE STARTS HERE\n",
        "    tf.keras.layers.Conv2D(CONVOLUTIONS, (3, 3), activation='relu', input_shape=(28, 28, 1)),\n",
        "    tf.keras.layers.MaxPooling2D(2, 2),\n",
        "    tf.keras.layers.Flatten(),\n",
        "    tf.keras.layers.Dense(HIDDEN_LAYER_SIZE, activation='relu'),\n",
        "    tf.keras.layers.Dense(10, activation='softmax')\n",
        "    # YOUR CODE ENDS HERE\n",
        "])\n",
        "\n",
        "# YOUR CODE STARTS HERE\n",
        "model.compile(optimizer='adam', loss='sparse_categorical_crossentropy', metrics=['accuracy'])\n",
        "model.summary()\n",
        "model.fit(training_images, training_labels, epochs=EPOCHS, callbacks=[callbacks])\n",
        "# YOUR CODE ENDS HERE\n",
        "\n"
      ],
      "execution_count": 13,
      "outputs": [
        {
          "output_type": "stream",
          "text": [
            "_________________________________________________________________\n",
            "Layer (type)                 Output Shape              Param #   \n",
            "=================================================================\n",
            "conv2d_11 (Conv2D)           (None, 26, 26, 32)        320       \n",
            "_________________________________________________________________\n",
            "max_pooling2d_11 (MaxPooling (None, 13, 13, 32)        0         \n",
            "_________________________________________________________________\n",
            "flatten_5 (Flatten)          (None, 5408)              0         \n",
            "_________________________________________________________________\n",
            "dense_22 (Dense)             (None, 128)               692352    \n",
            "_________________________________________________________________\n",
            "dense_23 (Dense)             (None, 10)                1290      \n",
            "=================================================================\n",
            "Total params: 693,962\n",
            "Trainable params: 693,962\n",
            "Non-trainable params: 0\n",
            "_________________________________________________________________\n",
            "Epoch 1/20\n",
            "60000/60000 [==============================] - 53s 884us/sample - loss: 0.1439 - acc: 0.9567\n",
            "Epoch 2/20\n",
            "60000/60000 [==============================] - 56s 930us/sample - loss: 0.0475 - acc: 0.9854\n",
            "Epoch 3/20\n",
            "60000/60000 [==============================] - 51s 858us/sample - loss: 0.0305 - acc: 0.9905\n",
            "Epoch 4/20\n",
            "60000/60000 [==============================] - 56s 928us/sample - loss: 0.0199 - acc: 0.9940\n",
            "Epoch 5/20\n",
            "60000/60000 [==============================] - 52s 865us/sample - loss: 0.0133 - acc: 0.9958\n",
            "Epoch 6/20\n",
            "60000/60000 [==============================] - 54s 901us/sample - loss: 0.0096 - acc: 0.9970\n",
            "Epoch 7/20\n",
            "60000/60000 [==============================] - 55s 924us/sample - loss: 0.0076 - acc: 0.9976\n",
            "Epoch 8/20\n",
            "60000/60000 [==============================] - 55s 914us/sample - loss: 0.0053 - acc: 0.9984\n",
            "Epoch 9/20\n",
            "60000/60000 [==============================] - 55s 913us/sample - loss: 0.0058 - acc: 0.9981\n",
            "Epoch 10/20\n",
            "60000/60000 [==============================] - 52s 873us/sample - loss: 0.0049 - acc: 0.9985\n",
            "Epoch 11/20\n",
            "60000/60000 [==============================] - 52s 860us/sample - loss: 0.0041 - acc: 0.9987\n",
            "Epoch 12/20\n",
            "60000/60000 [==============================] - 52s 861us/sample - loss: 0.0046 - acc: 0.9985\n",
            "Epoch 13/20\n",
            "60000/60000 [==============================] - 52s 867us/sample - loss: 0.0026 - acc: 0.9993\n",
            "Epoch 14/20\n",
            "60000/60000 [==============================] - 56s 926us/sample - loss: 0.0031 - acc: 0.9991\n",
            "Epoch 15/20\n",
            "60000/60000 [==============================] - 53s 883us/sample - loss: 0.0040 - acc: 0.9988\n",
            "Epoch 16/20\n",
            "59936/60000 [============================>.] - ETA: 0s - loss: 0.0015 - acc: 0.9995\n",
            "Reached 0.998000% accuracy so cancelling training!\n",
            "60000/60000 [==============================] - 52s 864us/sample - loss: 0.0015 - acc: 0.9995\n"
          ],
          "name": "stdout"
        },
        {
          "output_type": "execute_result",
          "data": {
            "text/plain": [
              "<tensorflow.python.keras.callbacks.History at 0x7fb9d223eba8>"
            ]
          },
          "metadata": {
            "tags": []
          },
          "execution_count": 13
        }
      ]
    },
    {
      "cell_type": "code",
      "metadata": {
        "id": "MIB6Ue6feybC",
        "colab_type": "code",
        "colab": {}
      },
      "source": [
        ""
      ],
      "execution_count": 0,
      "outputs": []
    }
  ]
}